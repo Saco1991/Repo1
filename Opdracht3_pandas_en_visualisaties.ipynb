{
 "cells": [
  {
   "cell_type": "markdown",
   "id": "76d29bba",
   "metadata": {},
   "source": [
    "# Opdracht 3 - Pandas & Visualisatie"
   ]
  },
  {
   "cell_type": "markdown",
   "id": "593efcab",
   "metadata": {},
   "source": [
    "##### Deze Notebook werd geschreven voor het Evaluatiemoment op 18/04/2023 door Sam Corbeel"
   ]
  },
  {
   "cell_type": "markdown",
   "id": "cefd76bd",
   "metadata": {},
   "source": [
    "## 1. Modules"
   ]
  },
  {
   "cell_type": "code",
   "execution_count": 294,
   "id": "3741e0d7",
   "metadata": {},
   "outputs": [],
   "source": [
    "import numpy as np\n",
    "import pandas as pd\n",
    "import matplotlib.pyplot as plt\n",
    "import matplotlib as mlk\n",
    "import os\n",
    "from fuzzywuzzy import fuzz\n",
    "import seaborn as sns\n",
    "import matplotlib.cm as cm"
   ]
  },
  {
   "cell_type": "markdown",
   "id": "156b3caa",
   "metadata": {},
   "source": [
    "## 2. Data Locaties & Files importeren"
   ]
  },
  {
   "cell_type": "code",
   "execution_count": 295,
   "id": "1dafcf6f",
   "metadata": {},
   "outputs": [
    {
     "data": {
      "text/plain": [
       "'C:\\\\Users\\\\samco\\\\OneDrive\\\\Bureaublad\\\\Syntra\\\\3. Opdrachten\\\\3. opdracht 3 - Visualisatie 20230418'"
      ]
     },
     "execution_count": 295,
     "metadata": {},
     "output_type": "execute_result"
    }
   ],
   "source": [
    "os.getcwd()"
   ]
  },
  {
   "cell_type": "code",
   "execution_count": 296,
   "id": "355897d3",
   "metadata": {},
   "outputs": [],
   "source": [
    "os.chdir(r'C:\\Users\\samco\\OneDrive\\Bureaublad\\Syntra\\3. Opdrachten\\3. opdracht 3 - Visualisatie 20230418')"
   ]
  },
  {
   "cell_type": "code",
   "execution_count": 297,
   "id": "20603b75",
   "metadata": {},
   "outputs": [
    {
     "data": {
      "text/plain": [
       "'C:\\\\Users\\\\samco\\\\OneDrive\\\\Bureaublad\\\\Syntra\\\\3. Opdrachten\\\\3. opdracht 3 - Visualisatie 20230418'"
      ]
     },
     "execution_count": 297,
     "metadata": {},
     "output_type": "execute_result"
    }
   ],
   "source": [
    "os.getcwd()"
   ]
  },
  {
   "cell_type": "code",
   "execution_count": 298,
   "id": "c102229e",
   "metadata": {},
   "outputs": [],
   "source": [
    "df_ads = pd.read_excel('ads.xlsx')\n",
    "df_clicks = pd.read_csv('clicks.csv', sep = ';')\n",
    "df_users = pd.read_csv('users.csv', sep= '|')\n",
    "df_websites = pd.read_csv('websites.csv', sep= ',')"
   ]
  },
  {
   "cell_type": "markdown",
   "id": "147b77e5",
   "metadata": {},
   "source": [
    "## 3. Queries"
   ]
  },
  {
   "cell_type": "markdown",
   "id": "1530af32",
   "metadata": {},
   "source": [
    "###### Niet van toepassing voor deze notebook"
   ]
  },
  {
   "cell_type": "markdown",
   "id": "108de0d5",
   "metadata": {},
   "source": [
    "## 4. Handige functies"
   ]
  },
  {
   "cell_type": "markdown",
   "id": "185f9d67",
   "metadata": {},
   "source": [
    "##### Niet van toepassing voor deze notebook"
   ]
  },
  {
   "cell_type": "markdown",
   "id": "8b3332bf",
   "metadata": {},
   "source": [
    "## 5. Main Body"
   ]
  },
  {
   "cell_type": "markdown",
   "id": "f68e5c0d",
   "metadata": {},
   "source": [
    "### Preprocessing: clean the data"
   ]
  },
  {
   "cell_type": "code",
   "execution_count": 299,
   "id": "7305085d",
   "metadata": {},
   "outputs": [],
   "source": [
    "# rename the id column to ad_in\n",
    "\n",
    "df_ads.rename(columns={'id':'ad_id'}, inplace = True)"
   ]
  },
  {
   "cell_type": "code",
   "execution_count": 300,
   "id": "6b208219",
   "metadata": {},
   "outputs": [],
   "source": [
    "# rename the id column to user_id\n",
    "\n",
    "df_users.rename(columns={'id':'user_id'}, inplace = True)"
   ]
  },
  {
   "cell_type": "code",
   "execution_count": 301,
   "id": "edbcd01f",
   "metadata": {},
   "outputs": [
    {
     "data": {
      "text/plain": [
       "www.facebook.com            13009\n",
       "http://www.facebook.com      5073\n",
       "www.imdb.com                 4288\n",
       "https://www.facebook.com     3332\n",
       "http://www.imdb.com          1749\n",
       "www.sporza.be                1579\n",
       "https://www.imdb.com         1100\n",
       "http://www.sporza.be          578\n",
       "https://www.sporza.be         385\n",
       "Name: website, dtype: int64"
      ]
     },
     "execution_count": 301,
     "metadata": {},
     "output_type": "execute_result"
    }
   ],
   "source": [
    "df_clicks['website'].value_counts()"
   ]
  },
  {
   "cell_type": "code",
   "execution_count": 302,
   "id": "5e8bfb46",
   "metadata": {},
   "outputs": [
    {
     "name": "stderr",
     "output_type": "stream",
     "text": [
      "C:\\Users\\samco\\AppData\\Local\\Temp\\ipykernel_21916\\658614287.py:1: FutureWarning: The default value of regex will change from True to False in a future version.\n",
      "  df_clicks['website'] = df_clicks['website'].str.replace(r'https?://', '', case=False)\n"
     ]
    }
   ],
   "source": [
    "df_clicks['website'] = df_clicks['website'].str.replace(r'https?://', '', case=False)"
   ]
  },
  {
   "cell_type": "code",
   "execution_count": 303,
   "id": "924b5bd0",
   "metadata": {},
   "outputs": [
    {
     "data": {
      "text/html": [
       "<div>\n",
       "<style scoped>\n",
       "    .dataframe tbody tr th:only-of-type {\n",
       "        vertical-align: middle;\n",
       "    }\n",
       "\n",
       "    .dataframe tbody tr th {\n",
       "        vertical-align: top;\n",
       "    }\n",
       "\n",
       "    .dataframe thead th {\n",
       "        text-align: right;\n",
       "    }\n",
       "</style>\n",
       "<table border=\"1\" class=\"dataframe\">\n",
       "  <thead>\n",
       "    <tr style=\"text-align: right;\">\n",
       "      <th></th>\n",
       "      <th>click_id</th>\n",
       "      <th>website</th>\n",
       "      <th>user_id</th>\n",
       "      <th>ad_id</th>\n",
       "      <th>did_click</th>\n",
       "    </tr>\n",
       "  </thead>\n",
       "  <tbody>\n",
       "    <tr>\n",
       "      <th>0</th>\n",
       "      <td>click0</td>\n",
       "      <td>www.imdb.com</td>\n",
       "      <td>user0</td>\n",
       "      <td>32</td>\n",
       "      <td>False</td>\n",
       "    </tr>\n",
       "    <tr>\n",
       "      <th>1</th>\n",
       "      <td>click1</td>\n",
       "      <td>www.imdb.com</td>\n",
       "      <td>user0</td>\n",
       "      <td>10</td>\n",
       "      <td>False</td>\n",
       "    </tr>\n",
       "    <tr>\n",
       "      <th>2</th>\n",
       "      <td>click2</td>\n",
       "      <td>www.facebook.com</td>\n",
       "      <td>user0</td>\n",
       "      <td>6</td>\n",
       "      <td>False</td>\n",
       "    </tr>\n",
       "    <tr>\n",
       "      <th>3</th>\n",
       "      <td>click3</td>\n",
       "      <td>www.facebook.com</td>\n",
       "      <td>user0</td>\n",
       "      <td>30</td>\n",
       "      <td>False</td>\n",
       "    </tr>\n",
       "    <tr>\n",
       "      <th>4</th>\n",
       "      <td>click4</td>\n",
       "      <td>www.facebook.com</td>\n",
       "      <td>user0</td>\n",
       "      <td>43</td>\n",
       "      <td>False</td>\n",
       "    </tr>\n",
       "    <tr>\n",
       "      <th>...</th>\n",
       "      <td>...</td>\n",
       "      <td>...</td>\n",
       "      <td>...</td>\n",
       "      <td>...</td>\n",
       "      <td>...</td>\n",
       "    </tr>\n",
       "    <tr>\n",
       "      <th>31088</th>\n",
       "      <td>click13</td>\n",
       "      <td>www.facebook.com</td>\n",
       "      <td>user999</td>\n",
       "      <td>56</td>\n",
       "      <td>False</td>\n",
       "    </tr>\n",
       "    <tr>\n",
       "      <th>31089</th>\n",
       "      <td>click14</td>\n",
       "      <td>www.facebook.com</td>\n",
       "      <td>user999</td>\n",
       "      <td>67</td>\n",
       "      <td>False</td>\n",
       "    </tr>\n",
       "    <tr>\n",
       "      <th>31090</th>\n",
       "      <td>click15</td>\n",
       "      <td>www.facebook.com</td>\n",
       "      <td>user999</td>\n",
       "      <td>55</td>\n",
       "      <td>False</td>\n",
       "    </tr>\n",
       "    <tr>\n",
       "      <th>31091</th>\n",
       "      <td>click16</td>\n",
       "      <td>www.facebook.com</td>\n",
       "      <td>user999</td>\n",
       "      <td>86</td>\n",
       "      <td>True</td>\n",
       "    </tr>\n",
       "    <tr>\n",
       "      <th>31092</th>\n",
       "      <td>click17</td>\n",
       "      <td>www.facebook.com</td>\n",
       "      <td>user999</td>\n",
       "      <td>7</td>\n",
       "      <td>False</td>\n",
       "    </tr>\n",
       "  </tbody>\n",
       "</table>\n",
       "<p>31093 rows × 5 columns</p>\n",
       "</div>"
      ],
      "text/plain": [
       "      click_id           website  user_id  ad_id  did_click\n",
       "0       click0      www.imdb.com    user0     32      False\n",
       "1       click1      www.imdb.com    user0     10      False\n",
       "2       click2  www.facebook.com    user0      6      False\n",
       "3       click3  www.facebook.com    user0     30      False\n",
       "4       click4  www.facebook.com    user0     43      False\n",
       "...        ...               ...      ...    ...        ...\n",
       "31088  click13  www.facebook.com  user999     56      False\n",
       "31089  click14  www.facebook.com  user999     67      False\n",
       "31090  click15  www.facebook.com  user999     55      False\n",
       "31091  click16  www.facebook.com  user999     86       True\n",
       "31092  click17  www.facebook.com  user999      7      False\n",
       "\n",
       "[31093 rows x 5 columns]"
      ]
     },
     "execution_count": 303,
     "metadata": {},
     "output_type": "execute_result"
    }
   ],
   "source": [
    "df_clicks"
   ]
  },
  {
   "cell_type": "code",
   "execution_count": 304,
   "id": "88c55235",
   "metadata": {},
   "outputs": [],
   "source": [
    "mapping_gender = {'male': 'M', 'female': 'F'}\n",
    "\n",
    "df_users['gender'] = df_users['gender'].map(mapping_gender)"
   ]
  },
  {
   "cell_type": "code",
   "execution_count": 305,
   "id": "ffae86fc",
   "metadata": {},
   "outputs": [],
   "source": [
    "# make copy of Age column\n",
    "\n",
    "df_users['user_age_intervals_ad'] = df_users['age']"
   ]
  },
  {
   "cell_type": "code",
   "execution_count": 306,
   "id": "fe984d61",
   "metadata": {},
   "outputs": [],
   "source": [
    "# Define the dictionary to map integer values to intervals\n",
    "\n",
    "age_intervals = {'18-24': (18, 24),\n",
    "                 '25-34': (25, 34),\n",
    "                 '35-44': (35, 44),\n",
    "                 '45-54': (45, 54),\n",
    "                 '55+': (55, float('inf'))}\n",
    "\n",
    "def categorize_age(age):\n",
    "    for interval, (lower, upper) in age_intervals.items():\n",
    "        if lower <= age <= upper:\n",
    "            return interval\n",
    "    return None\n",
    "\n",
    "# Apply the categorize_age function to the 'age' column to create a new column 'age_interval'\n",
    "df_users['user_age_intervals_ad'] = df_users['age'].apply(categorize_age)"
   ]
  },
  {
   "cell_type": "code",
   "execution_count": 328,
   "id": "5069fa2f",
   "metadata": {},
   "outputs": [
    {
     "data": {
      "text/html": [
       "<div>\n",
       "<style scoped>\n",
       "    .dataframe tbody tr th:only-of-type {\n",
       "        vertical-align: middle;\n",
       "    }\n",
       "\n",
       "    .dataframe tbody tr th {\n",
       "        vertical-align: top;\n",
       "    }\n",
       "\n",
       "    .dataframe thead th {\n",
       "        text-align: right;\n",
       "    }\n",
       "</style>\n",
       "<table border=\"1\" class=\"dataframe\">\n",
       "  <thead>\n",
       "    <tr style=\"text-align: right;\">\n",
       "      <th></th>\n",
       "      <th>ad_id</th>\n",
       "      <th>category_ad</th>\n",
       "      <th>topic_ad</th>\n",
       "      <th>target_age_ad</th>\n",
       "    </tr>\n",
       "  </thead>\n",
       "  <tbody>\n",
       "    <tr>\n",
       "      <th>0</th>\n",
       "      <td>0</td>\n",
       "      <td>sports</td>\n",
       "      <td>fitness</td>\n",
       "      <td>18-24</td>\n",
       "    </tr>\n",
       "    <tr>\n",
       "      <th>1</th>\n",
       "      <td>1</td>\n",
       "      <td>sports</td>\n",
       "      <td>fitness</td>\n",
       "      <td>25-34</td>\n",
       "    </tr>\n",
       "    <tr>\n",
       "      <th>2</th>\n",
       "      <td>2</td>\n",
       "      <td>sports</td>\n",
       "      <td>fitness</td>\n",
       "      <td>35-44</td>\n",
       "    </tr>\n",
       "    <tr>\n",
       "      <th>3</th>\n",
       "      <td>3</td>\n",
       "      <td>sports</td>\n",
       "      <td>fitness</td>\n",
       "      <td>45-54</td>\n",
       "    </tr>\n",
       "    <tr>\n",
       "      <th>4</th>\n",
       "      <td>4</td>\n",
       "      <td>sports</td>\n",
       "      <td>fitness</td>\n",
       "      <td>55+</td>\n",
       "    </tr>\n",
       "  </tbody>\n",
       "</table>\n",
       "</div>"
      ],
      "text/plain": [
       "   ad_id category_ad topic_ad target_age_ad\n",
       "0      0      sports  fitness         18-24\n",
       "1      1      sports  fitness         25-34\n",
       "2      2      sports  fitness         35-44\n",
       "3      3      sports  fitness         45-54\n",
       "4      4      sports  fitness           55+"
      ]
     },
     "execution_count": 328,
     "metadata": {},
     "output_type": "execute_result"
    }
   ],
   "source": [
    "df_ads.rename(columns={'target_age':'target_age_ad'}, inplace = True)\n",
    "df_ads.rename(columns={'category':'category_ad'}, inplace = True)\n",
    "df_ads.rename(columns={'topic':'topic_ad'}, inplace = True)\n",
    "df_ads.head()"
   ]
  },
  {
   "cell_type": "code",
   "execution_count": 329,
   "id": "77a8615f",
   "metadata": {},
   "outputs": [
    {
     "data": {
      "text/html": [
       "<div>\n",
       "<style scoped>\n",
       "    .dataframe tbody tr th:only-of-type {\n",
       "        vertical-align: middle;\n",
       "    }\n",
       "\n",
       "    .dataframe tbody tr th {\n",
       "        vertical-align: top;\n",
       "    }\n",
       "\n",
       "    .dataframe thead th {\n",
       "        text-align: right;\n",
       "    }\n",
       "</style>\n",
       "<table border=\"1\" class=\"dataframe\">\n",
       "  <thead>\n",
       "    <tr style=\"text-align: right;\">\n",
       "      <th></th>\n",
       "      <th>user_id</th>\n",
       "      <th>ads_shown</th>\n",
       "      <th>user_age_exact</th>\n",
       "      <th>gender</th>\n",
       "      <th>location</th>\n",
       "      <th>user_age_intervals_ad</th>\n",
       "    </tr>\n",
       "  </thead>\n",
       "  <tbody>\n",
       "    <tr>\n",
       "      <th>0</th>\n",
       "      <td>user0</td>\n",
       "      <td>51</td>\n",
       "      <td>22</td>\n",
       "      <td>F</td>\n",
       "      <td>Netherlands</td>\n",
       "      <td>18-24</td>\n",
       "    </tr>\n",
       "    <tr>\n",
       "      <th>1</th>\n",
       "      <td>user1</td>\n",
       "      <td>33</td>\n",
       "      <td>51</td>\n",
       "      <td>F</td>\n",
       "      <td>France</td>\n",
       "      <td>45-54</td>\n",
       "    </tr>\n",
       "    <tr>\n",
       "      <th>2</th>\n",
       "      <td>user2</td>\n",
       "      <td>21</td>\n",
       "      <td>53</td>\n",
       "      <td>M</td>\n",
       "      <td>Belgium</td>\n",
       "      <td>45-54</td>\n",
       "    </tr>\n",
       "    <tr>\n",
       "      <th>3</th>\n",
       "      <td>user3</td>\n",
       "      <td>24</td>\n",
       "      <td>38</td>\n",
       "      <td>M</td>\n",
       "      <td>Germany</td>\n",
       "      <td>35-44</td>\n",
       "    </tr>\n",
       "    <tr>\n",
       "      <th>4</th>\n",
       "      <td>user4</td>\n",
       "      <td>77</td>\n",
       "      <td>19</td>\n",
       "      <td>M</td>\n",
       "      <td>Luxembourg</td>\n",
       "      <td>18-24</td>\n",
       "    </tr>\n",
       "  </tbody>\n",
       "</table>\n",
       "</div>"
      ],
      "text/plain": [
       "  user_id  ads_shown  user_age_exact gender     location user_age_intervals_ad\n",
       "0   user0         51              22      F  Netherlands                 18-24\n",
       "1   user1         33              51      F       France                 45-54\n",
       "2   user2         21              53      M      Belgium                 45-54\n",
       "3   user3         24              38      M      Germany                 35-44\n",
       "4   user4         77              19      M   Luxembourg                 18-24"
      ]
     },
     "execution_count": 329,
     "metadata": {},
     "output_type": "execute_result"
    }
   ],
   "source": [
    "df_users.rename(columns={'age':'user_age_exact'}, inplace = True)\n",
    "\n",
    "df_users.head()"
   ]
  },
  {
   "cell_type": "code",
   "execution_count": 330,
   "id": "3f8abd49",
   "metadata": {},
   "outputs": [
    {
     "data": {
      "text/html": [
       "<div>\n",
       "<style scoped>\n",
       "    .dataframe tbody tr th:only-of-type {\n",
       "        vertical-align: middle;\n",
       "    }\n",
       "\n",
       "    .dataframe tbody tr th {\n",
       "        vertical-align: top;\n",
       "    }\n",
       "\n",
       "    .dataframe thead th {\n",
       "        text-align: right;\n",
       "    }\n",
       "</style>\n",
       "<table border=\"1\" class=\"dataframe\">\n",
       "  <thead>\n",
       "    <tr style=\"text-align: right;\">\n",
       "      <th></th>\n",
       "      <th>click_id</th>\n",
       "      <th>website</th>\n",
       "      <th>user_id</th>\n",
       "      <th>ad_id</th>\n",
       "      <th>did_click</th>\n",
       "    </tr>\n",
       "  </thead>\n",
       "  <tbody>\n",
       "    <tr>\n",
       "      <th>0</th>\n",
       "      <td>click0</td>\n",
       "      <td>www.imdb.com</td>\n",
       "      <td>user0</td>\n",
       "      <td>32</td>\n",
       "      <td>False</td>\n",
       "    </tr>\n",
       "    <tr>\n",
       "      <th>1</th>\n",
       "      <td>click1</td>\n",
       "      <td>www.imdb.com</td>\n",
       "      <td>user0</td>\n",
       "      <td>10</td>\n",
       "      <td>False</td>\n",
       "    </tr>\n",
       "    <tr>\n",
       "      <th>2</th>\n",
       "      <td>click2</td>\n",
       "      <td>www.facebook.com</td>\n",
       "      <td>user0</td>\n",
       "      <td>6</td>\n",
       "      <td>False</td>\n",
       "    </tr>\n",
       "    <tr>\n",
       "      <th>3</th>\n",
       "      <td>click3</td>\n",
       "      <td>www.facebook.com</td>\n",
       "      <td>user0</td>\n",
       "      <td>30</td>\n",
       "      <td>False</td>\n",
       "    </tr>\n",
       "    <tr>\n",
       "      <th>4</th>\n",
       "      <td>click4</td>\n",
       "      <td>www.facebook.com</td>\n",
       "      <td>user0</td>\n",
       "      <td>43</td>\n",
       "      <td>False</td>\n",
       "    </tr>\n",
       "    <tr>\n",
       "      <th>...</th>\n",
       "      <td>...</td>\n",
       "      <td>...</td>\n",
       "      <td>...</td>\n",
       "      <td>...</td>\n",
       "      <td>...</td>\n",
       "    </tr>\n",
       "    <tr>\n",
       "      <th>31088</th>\n",
       "      <td>click13</td>\n",
       "      <td>www.facebook.com</td>\n",
       "      <td>user999</td>\n",
       "      <td>56</td>\n",
       "      <td>False</td>\n",
       "    </tr>\n",
       "    <tr>\n",
       "      <th>31089</th>\n",
       "      <td>click14</td>\n",
       "      <td>www.facebook.com</td>\n",
       "      <td>user999</td>\n",
       "      <td>67</td>\n",
       "      <td>False</td>\n",
       "    </tr>\n",
       "    <tr>\n",
       "      <th>31090</th>\n",
       "      <td>click15</td>\n",
       "      <td>www.facebook.com</td>\n",
       "      <td>user999</td>\n",
       "      <td>55</td>\n",
       "      <td>False</td>\n",
       "    </tr>\n",
       "    <tr>\n",
       "      <th>31091</th>\n",
       "      <td>click16</td>\n",
       "      <td>www.facebook.com</td>\n",
       "      <td>user999</td>\n",
       "      <td>86</td>\n",
       "      <td>True</td>\n",
       "    </tr>\n",
       "    <tr>\n",
       "      <th>31092</th>\n",
       "      <td>click17</td>\n",
       "      <td>www.facebook.com</td>\n",
       "      <td>user999</td>\n",
       "      <td>7</td>\n",
       "      <td>False</td>\n",
       "    </tr>\n",
       "  </tbody>\n",
       "</table>\n",
       "<p>31093 rows × 5 columns</p>\n",
       "</div>"
      ],
      "text/plain": [
       "      click_id           website  user_id  ad_id  did_click\n",
       "0       click0      www.imdb.com    user0     32      False\n",
       "1       click1      www.imdb.com    user0     10      False\n",
       "2       click2  www.facebook.com    user0      6      False\n",
       "3       click3  www.facebook.com    user0     30      False\n",
       "4       click4  www.facebook.com    user0     43      False\n",
       "...        ...               ...      ...    ...        ...\n",
       "31088  click13  www.facebook.com  user999     56      False\n",
       "31089  click14  www.facebook.com  user999     67      False\n",
       "31090  click15  www.facebook.com  user999     55      False\n",
       "31091  click16  www.facebook.com  user999     86       True\n",
       "31092  click17  www.facebook.com  user999      7      False\n",
       "\n",
       "[31093 rows x 5 columns]"
      ]
     },
     "execution_count": 330,
     "metadata": {},
     "output_type": "execute_result"
    }
   ],
   "source": [
    "df_clicks.head()\n",
    "\n",
    "df_clicks"
   ]
  },
  {
   "cell_type": "code",
   "execution_count": 331,
   "id": "6795b138",
   "metadata": {},
   "outputs": [
    {
     "data": {
      "text/html": [
       "<div>\n",
       "<style scoped>\n",
       "    .dataframe tbody tr th:only-of-type {\n",
       "        vertical-align: middle;\n",
       "    }\n",
       "\n",
       "    .dataframe tbody tr th {\n",
       "        vertical-align: top;\n",
       "    }\n",
       "\n",
       "    .dataframe thead th {\n",
       "        text-align: right;\n",
       "    }\n",
       "</style>\n",
       "<table border=\"1\" class=\"dataframe\">\n",
       "  <thead>\n",
       "    <tr style=\"text-align: right;\">\n",
       "      <th></th>\n",
       "      <th>url</th>\n",
       "      <th>category_website</th>\n",
       "      <th>target_age_website</th>\n",
       "    </tr>\n",
       "  </thead>\n",
       "  <tbody>\n",
       "    <tr>\n",
       "      <th>0</th>\n",
       "      <td>www.sporza.be</td>\n",
       "      <td>sports</td>\n",
       "      <td>20-60</td>\n",
       "    </tr>\n",
       "    <tr>\n",
       "      <th>1</th>\n",
       "      <td>www.facebook.com</td>\n",
       "      <td>social</td>\n",
       "      <td>18-35</td>\n",
       "    </tr>\n",
       "    <tr>\n",
       "      <th>2</th>\n",
       "      <td>www.imdb.com</td>\n",
       "      <td>movies</td>\n",
       "      <td>30-50</td>\n",
       "    </tr>\n",
       "  </tbody>\n",
       "</table>\n",
       "</div>"
      ],
      "text/plain": [
       "                url category_website target_age_website\n",
       "0     www.sporza.be           sports              20-60\n",
       "1  www.facebook.com           social              18-35\n",
       "2      www.imdb.com           movies              30-50"
      ]
     },
     "execution_count": 331,
     "metadata": {},
     "output_type": "execute_result"
    }
   ],
   "source": [
    "df_websites.rename(columns={'target_age':'target_age_website'}, inplace = True)\n",
    "df_websites.rename(columns={'category':'category_website'}, inplace = True)\n",
    "\n",
    "df_websites.head()"
   ]
  },
  {
   "cell_type": "code",
   "execution_count": 332,
   "id": "1fdb7b2b",
   "metadata": {},
   "outputs": [],
   "source": [
    "df_merged = pd.merge(left = df_clicks, right = df_users, left_on = 'user_id', right_on = 'user_id')"
   ]
  },
  {
   "cell_type": "code",
   "execution_count": 333,
   "id": "aaa96de6",
   "metadata": {},
   "outputs": [],
   "source": [
    "df_merged = pd.merge(left = df_merged, right = df_ads, left_on = 'ad_id', right_on = 'ad_id')"
   ]
  },
  {
   "cell_type": "code",
   "execution_count": 334,
   "id": "f184ab40",
   "metadata": {},
   "outputs": [],
   "source": [
    "df_merged = pd.merge(left = df_merged, right = df_websites, left_on = 'website', right_on = 'url')"
   ]
  },
  {
   "cell_type": "code",
   "execution_count": 335,
   "id": "b7d6d421",
   "metadata": {},
   "outputs": [
    {
     "data": {
      "text/html": [
       "<div>\n",
       "<style scoped>\n",
       "    .dataframe tbody tr th:only-of-type {\n",
       "        vertical-align: middle;\n",
       "    }\n",
       "\n",
       "    .dataframe tbody tr th {\n",
       "        vertical-align: top;\n",
       "    }\n",
       "\n",
       "    .dataframe thead th {\n",
       "        text-align: right;\n",
       "    }\n",
       "</style>\n",
       "<table border=\"1\" class=\"dataframe\">\n",
       "  <thead>\n",
       "    <tr style=\"text-align: right;\">\n",
       "      <th></th>\n",
       "      <th>click_id</th>\n",
       "      <th>website</th>\n",
       "      <th>user_id</th>\n",
       "      <th>ad_id</th>\n",
       "      <th>did_click</th>\n",
       "      <th>ads_shown</th>\n",
       "      <th>user_age_exact</th>\n",
       "      <th>gender</th>\n",
       "      <th>location</th>\n",
       "      <th>user_age_intervals_ad</th>\n",
       "      <th>category_ad</th>\n",
       "      <th>topic_ad</th>\n",
       "      <th>target_age_ad</th>\n",
       "      <th>url</th>\n",
       "      <th>category_website</th>\n",
       "      <th>target_age_website</th>\n",
       "    </tr>\n",
       "  </thead>\n",
       "  <tbody>\n",
       "    <tr>\n",
       "      <th>0</th>\n",
       "      <td>click0</td>\n",
       "      <td>www.imdb.com</td>\n",
       "      <td>user0</td>\n",
       "      <td>32</td>\n",
       "      <td>False</td>\n",
       "      <td>51</td>\n",
       "      <td>22</td>\n",
       "      <td>F</td>\n",
       "      <td>Netherlands</td>\n",
       "      <td>18-24</td>\n",
       "      <td>entertainment</td>\n",
       "      <td>movies</td>\n",
       "      <td>35-44</td>\n",
       "      <td>www.imdb.com</td>\n",
       "      <td>movies</td>\n",
       "      <td>30-50</td>\n",
       "    </tr>\n",
       "    <tr>\n",
       "      <th>1</th>\n",
       "      <td>click76</td>\n",
       "      <td>www.imdb.com</td>\n",
       "      <td>user4</td>\n",
       "      <td>32</td>\n",
       "      <td>False</td>\n",
       "      <td>77</td>\n",
       "      <td>19</td>\n",
       "      <td>M</td>\n",
       "      <td>Luxembourg</td>\n",
       "      <td>18-24</td>\n",
       "      <td>entertainment</td>\n",
       "      <td>movies</td>\n",
       "      <td>35-44</td>\n",
       "      <td>www.imdb.com</td>\n",
       "      <td>movies</td>\n",
       "      <td>30-50</td>\n",
       "    </tr>\n",
       "    <tr>\n",
       "      <th>2</th>\n",
       "      <td>click8</td>\n",
       "      <td>www.imdb.com</td>\n",
       "      <td>user15</td>\n",
       "      <td>32</td>\n",
       "      <td>False</td>\n",
       "      <td>41</td>\n",
       "      <td>70</td>\n",
       "      <td>M</td>\n",
       "      <td>Luxembourg</td>\n",
       "      <td>55+</td>\n",
       "      <td>entertainment</td>\n",
       "      <td>movies</td>\n",
       "      <td>35-44</td>\n",
       "      <td>www.imdb.com</td>\n",
       "      <td>movies</td>\n",
       "      <td>30-50</td>\n",
       "    </tr>\n",
       "    <tr>\n",
       "      <th>3</th>\n",
       "      <td>click22</td>\n",
       "      <td>www.imdb.com</td>\n",
       "      <td>user18</td>\n",
       "      <td>32</td>\n",
       "      <td>False</td>\n",
       "      <td>58</td>\n",
       "      <td>21</td>\n",
       "      <td>F</td>\n",
       "      <td>France</td>\n",
       "      <td>18-24</td>\n",
       "      <td>entertainment</td>\n",
       "      <td>movies</td>\n",
       "      <td>35-44</td>\n",
       "      <td>www.imdb.com</td>\n",
       "      <td>movies</td>\n",
       "      <td>30-50</td>\n",
       "    </tr>\n",
       "    <tr>\n",
       "      <th>4</th>\n",
       "      <td>click14</td>\n",
       "      <td>www.imdb.com</td>\n",
       "      <td>user38</td>\n",
       "      <td>32</td>\n",
       "      <td>False</td>\n",
       "      <td>48</td>\n",
       "      <td>28</td>\n",
       "      <td>F</td>\n",
       "      <td>Netherlands</td>\n",
       "      <td>25-34</td>\n",
       "      <td>entertainment</td>\n",
       "      <td>movies</td>\n",
       "      <td>35-44</td>\n",
       "      <td>www.imdb.com</td>\n",
       "      <td>movies</td>\n",
       "      <td>30-50</td>\n",
       "    </tr>\n",
       "    <tr>\n",
       "      <th>...</th>\n",
       "      <td>...</td>\n",
       "      <td>...</td>\n",
       "      <td>...</td>\n",
       "      <td>...</td>\n",
       "      <td>...</td>\n",
       "      <td>...</td>\n",
       "      <td>...</td>\n",
       "      <td>...</td>\n",
       "      <td>...</td>\n",
       "      <td>...</td>\n",
       "      <td>...</td>\n",
       "      <td>...</td>\n",
       "      <td>...</td>\n",
       "      <td>...</td>\n",
       "      <td>...</td>\n",
       "      <td>...</td>\n",
       "    </tr>\n",
       "    <tr>\n",
       "      <th>31088</th>\n",
       "      <td>click31</td>\n",
       "      <td>www.sporza.be</td>\n",
       "      <td>user782</td>\n",
       "      <td>101</td>\n",
       "      <td>True</td>\n",
       "      <td>49</td>\n",
       "      <td>53</td>\n",
       "      <td>F</td>\n",
       "      <td>Luxembourg</td>\n",
       "      <td>45-54</td>\n",
       "      <td>health</td>\n",
       "      <td>fitness</td>\n",
       "      <td>25-34</td>\n",
       "      <td>www.sporza.be</td>\n",
       "      <td>sports</td>\n",
       "      <td>20-60</td>\n",
       "    </tr>\n",
       "    <tr>\n",
       "      <th>31089</th>\n",
       "      <td>click13</td>\n",
       "      <td>www.sporza.be</td>\n",
       "      <td>user804</td>\n",
       "      <td>101</td>\n",
       "      <td>False</td>\n",
       "      <td>18</td>\n",
       "      <td>30</td>\n",
       "      <td>M</td>\n",
       "      <td>France</td>\n",
       "      <td>25-34</td>\n",
       "      <td>health</td>\n",
       "      <td>fitness</td>\n",
       "      <td>25-34</td>\n",
       "      <td>www.sporza.be</td>\n",
       "      <td>sports</td>\n",
       "      <td>20-60</td>\n",
       "    </tr>\n",
       "    <tr>\n",
       "      <th>31090</th>\n",
       "      <td>click2</td>\n",
       "      <td>www.sporza.be</td>\n",
       "      <td>user828</td>\n",
       "      <td>101</td>\n",
       "      <td>False</td>\n",
       "      <td>9</td>\n",
       "      <td>53</td>\n",
       "      <td>M</td>\n",
       "      <td>Netherlands</td>\n",
       "      <td>45-54</td>\n",
       "      <td>health</td>\n",
       "      <td>fitness</td>\n",
       "      <td>25-34</td>\n",
       "      <td>www.sporza.be</td>\n",
       "      <td>sports</td>\n",
       "      <td>20-60</td>\n",
       "    </tr>\n",
       "    <tr>\n",
       "      <th>31091</th>\n",
       "      <td>click26</td>\n",
       "      <td>www.sporza.be</td>\n",
       "      <td>user856</td>\n",
       "      <td>101</td>\n",
       "      <td>False</td>\n",
       "      <td>44</td>\n",
       "      <td>19</td>\n",
       "      <td>F</td>\n",
       "      <td>Netherlands</td>\n",
       "      <td>18-24</td>\n",
       "      <td>health</td>\n",
       "      <td>fitness</td>\n",
       "      <td>25-34</td>\n",
       "      <td>www.sporza.be</td>\n",
       "      <td>sports</td>\n",
       "      <td>20-60</td>\n",
       "    </tr>\n",
       "    <tr>\n",
       "      <th>31092</th>\n",
       "      <td>click17</td>\n",
       "      <td>www.sporza.be</td>\n",
       "      <td>user952</td>\n",
       "      <td>101</td>\n",
       "      <td>False</td>\n",
       "      <td>49</td>\n",
       "      <td>38</td>\n",
       "      <td>F</td>\n",
       "      <td>Luxembourg</td>\n",
       "      <td>35-44</td>\n",
       "      <td>health</td>\n",
       "      <td>fitness</td>\n",
       "      <td>25-34</td>\n",
       "      <td>www.sporza.be</td>\n",
       "      <td>sports</td>\n",
       "      <td>20-60</td>\n",
       "    </tr>\n",
       "  </tbody>\n",
       "</table>\n",
       "<p>31093 rows × 16 columns</p>\n",
       "</div>"
      ],
      "text/plain": [
       "      click_id        website  user_id  ad_id  did_click  ads_shown  \\\n",
       "0       click0   www.imdb.com    user0     32      False         51   \n",
       "1      click76   www.imdb.com    user4     32      False         77   \n",
       "2       click8   www.imdb.com   user15     32      False         41   \n",
       "3      click22   www.imdb.com   user18     32      False         58   \n",
       "4      click14   www.imdb.com   user38     32      False         48   \n",
       "...        ...            ...      ...    ...        ...        ...   \n",
       "31088  click31  www.sporza.be  user782    101       True         49   \n",
       "31089  click13  www.sporza.be  user804    101      False         18   \n",
       "31090   click2  www.sporza.be  user828    101      False          9   \n",
       "31091  click26  www.sporza.be  user856    101      False         44   \n",
       "31092  click17  www.sporza.be  user952    101      False         49   \n",
       "\n",
       "       user_age_exact gender     location user_age_intervals_ad  \\\n",
       "0                  22      F  Netherlands                 18-24   \n",
       "1                  19      M   Luxembourg                 18-24   \n",
       "2                  70      M   Luxembourg                   55+   \n",
       "3                  21      F       France                 18-24   \n",
       "4                  28      F  Netherlands                 25-34   \n",
       "...               ...    ...          ...                   ...   \n",
       "31088              53      F   Luxembourg                 45-54   \n",
       "31089              30      M       France                 25-34   \n",
       "31090              53      M  Netherlands                 45-54   \n",
       "31091              19      F  Netherlands                 18-24   \n",
       "31092              38      F   Luxembourg                 35-44   \n",
       "\n",
       "         category_ad topic_ad target_age_ad            url category_website  \\\n",
       "0      entertainment   movies         35-44   www.imdb.com           movies   \n",
       "1      entertainment   movies         35-44   www.imdb.com           movies   \n",
       "2      entertainment   movies         35-44   www.imdb.com           movies   \n",
       "3      entertainment   movies         35-44   www.imdb.com           movies   \n",
       "4      entertainment   movies         35-44   www.imdb.com           movies   \n",
       "...              ...      ...           ...            ...              ...   \n",
       "31088         health  fitness         25-34  www.sporza.be           sports   \n",
       "31089         health  fitness         25-34  www.sporza.be           sports   \n",
       "31090         health  fitness         25-34  www.sporza.be           sports   \n",
       "31091         health  fitness         25-34  www.sporza.be           sports   \n",
       "31092         health  fitness         25-34  www.sporza.be           sports   \n",
       "\n",
       "      target_age_website  \n",
       "0                  30-50  \n",
       "1                  30-50  \n",
       "2                  30-50  \n",
       "3                  30-50  \n",
       "4                  30-50  \n",
       "...                  ...  \n",
       "31088              20-60  \n",
       "31089              20-60  \n",
       "31090              20-60  \n",
       "31091              20-60  \n",
       "31092              20-60  \n",
       "\n",
       "[31093 rows x 16 columns]"
      ]
     },
     "execution_count": 335,
     "metadata": {},
     "output_type": "execute_result"
    }
   ],
   "source": [
    "# Check total rows and columns and compare with Click file (above)\n",
    "\n",
    "df_merged"
   ]
  },
  {
   "cell_type": "code",
   "execution_count": 336,
   "id": "8e1c7160",
   "metadata": {},
   "outputs": [
    {
     "data": {
      "text/plain": [
       "0         www.imdb.com\n",
       "1         www.imdb.com\n",
       "2         www.imdb.com\n",
       "3         www.imdb.com\n",
       "4         www.imdb.com\n",
       "             ...      \n",
       "31088    www.sporza.be\n",
       "31089    www.sporza.be\n",
       "31090    www.sporza.be\n",
       "31091    www.sporza.be\n",
       "31092    www.sporza.be\n",
       "Name: website, Length: 31093, dtype: object"
      ]
     },
     "execution_count": 336,
     "metadata": {},
     "output_type": "execute_result"
    }
   ],
   "source": [
    "df_merged.pop('website')"
   ]
  },
  {
   "cell_type": "code",
   "execution_count": 337,
   "id": "399def59",
   "metadata": {},
   "outputs": [
    {
     "data": {
      "text/html": [
       "<div>\n",
       "<style scoped>\n",
       "    .dataframe tbody tr th:only-of-type {\n",
       "        vertical-align: middle;\n",
       "    }\n",
       "\n",
       "    .dataframe tbody tr th {\n",
       "        vertical-align: top;\n",
       "    }\n",
       "\n",
       "    .dataframe thead th {\n",
       "        text-align: right;\n",
       "    }\n",
       "</style>\n",
       "<table border=\"1\" class=\"dataframe\">\n",
       "  <thead>\n",
       "    <tr style=\"text-align: right;\">\n",
       "      <th></th>\n",
       "      <th>click_id</th>\n",
       "      <th>user_id</th>\n",
       "      <th>ad_id</th>\n",
       "      <th>did_click</th>\n",
       "      <th>ads_shown</th>\n",
       "      <th>user_age_exact</th>\n",
       "      <th>gender</th>\n",
       "      <th>location</th>\n",
       "      <th>user_age_intervals_ad</th>\n",
       "      <th>category_ad</th>\n",
       "      <th>topic_ad</th>\n",
       "      <th>target_age_ad</th>\n",
       "      <th>url</th>\n",
       "      <th>category_website</th>\n",
       "      <th>target_age_website</th>\n",
       "    </tr>\n",
       "  </thead>\n",
       "  <tbody>\n",
       "    <tr>\n",
       "      <th>0</th>\n",
       "      <td>click0</td>\n",
       "      <td>user0</td>\n",
       "      <td>32</td>\n",
       "      <td>False</td>\n",
       "      <td>51</td>\n",
       "      <td>22</td>\n",
       "      <td>F</td>\n",
       "      <td>Netherlands</td>\n",
       "      <td>18-24</td>\n",
       "      <td>entertainment</td>\n",
       "      <td>movies</td>\n",
       "      <td>35-44</td>\n",
       "      <td>www.imdb.com</td>\n",
       "      <td>movies</td>\n",
       "      <td>30-50</td>\n",
       "    </tr>\n",
       "    <tr>\n",
       "      <th>1</th>\n",
       "      <td>click76</td>\n",
       "      <td>user4</td>\n",
       "      <td>32</td>\n",
       "      <td>False</td>\n",
       "      <td>77</td>\n",
       "      <td>19</td>\n",
       "      <td>M</td>\n",
       "      <td>Luxembourg</td>\n",
       "      <td>18-24</td>\n",
       "      <td>entertainment</td>\n",
       "      <td>movies</td>\n",
       "      <td>35-44</td>\n",
       "      <td>www.imdb.com</td>\n",
       "      <td>movies</td>\n",
       "      <td>30-50</td>\n",
       "    </tr>\n",
       "    <tr>\n",
       "      <th>2</th>\n",
       "      <td>click8</td>\n",
       "      <td>user15</td>\n",
       "      <td>32</td>\n",
       "      <td>False</td>\n",
       "      <td>41</td>\n",
       "      <td>70</td>\n",
       "      <td>M</td>\n",
       "      <td>Luxembourg</td>\n",
       "      <td>55+</td>\n",
       "      <td>entertainment</td>\n",
       "      <td>movies</td>\n",
       "      <td>35-44</td>\n",
       "      <td>www.imdb.com</td>\n",
       "      <td>movies</td>\n",
       "      <td>30-50</td>\n",
       "    </tr>\n",
       "    <tr>\n",
       "      <th>3</th>\n",
       "      <td>click22</td>\n",
       "      <td>user18</td>\n",
       "      <td>32</td>\n",
       "      <td>False</td>\n",
       "      <td>58</td>\n",
       "      <td>21</td>\n",
       "      <td>F</td>\n",
       "      <td>France</td>\n",
       "      <td>18-24</td>\n",
       "      <td>entertainment</td>\n",
       "      <td>movies</td>\n",
       "      <td>35-44</td>\n",
       "      <td>www.imdb.com</td>\n",
       "      <td>movies</td>\n",
       "      <td>30-50</td>\n",
       "    </tr>\n",
       "    <tr>\n",
       "      <th>4</th>\n",
       "      <td>click14</td>\n",
       "      <td>user38</td>\n",
       "      <td>32</td>\n",
       "      <td>False</td>\n",
       "      <td>48</td>\n",
       "      <td>28</td>\n",
       "      <td>F</td>\n",
       "      <td>Netherlands</td>\n",
       "      <td>25-34</td>\n",
       "      <td>entertainment</td>\n",
       "      <td>movies</td>\n",
       "      <td>35-44</td>\n",
       "      <td>www.imdb.com</td>\n",
       "      <td>movies</td>\n",
       "      <td>30-50</td>\n",
       "    </tr>\n",
       "  </tbody>\n",
       "</table>\n",
       "</div>"
      ],
      "text/plain": [
       "  click_id user_id  ad_id  did_click  ads_shown  user_age_exact gender  \\\n",
       "0   click0   user0     32      False         51              22      F   \n",
       "1  click76   user4     32      False         77              19      M   \n",
       "2   click8  user15     32      False         41              70      M   \n",
       "3  click22  user18     32      False         58              21      F   \n",
       "4  click14  user38     32      False         48              28      F   \n",
       "\n",
       "      location user_age_intervals_ad    category_ad topic_ad target_age_ad  \\\n",
       "0  Netherlands                 18-24  entertainment   movies         35-44   \n",
       "1   Luxembourg                 18-24  entertainment   movies         35-44   \n",
       "2   Luxembourg                   55+  entertainment   movies         35-44   \n",
       "3       France                 18-24  entertainment   movies         35-44   \n",
       "4  Netherlands                 25-34  entertainment   movies         35-44   \n",
       "\n",
       "            url category_website target_age_website  \n",
       "0  www.imdb.com           movies              30-50  \n",
       "1  www.imdb.com           movies              30-50  \n",
       "2  www.imdb.com           movies              30-50  \n",
       "3  www.imdb.com           movies              30-50  \n",
       "4  www.imdb.com           movies              30-50  "
      ]
     },
     "execution_count": 337,
     "metadata": {},
     "output_type": "execute_result"
    }
   ],
   "source": [
    "df_merged.head()"
   ]
  },
  {
   "cell_type": "markdown",
   "id": "404851b9",
   "metadata": {},
   "source": [
    "### Investigate Business Questions (visualisaties)"
   ]
  },
  {
   "cell_type": "markdown",
   "id": "86aa02ca",
   "metadata": {},
   "source": [
    "#### Krijgen Vrouwen evenveel Ads te zien als mannen?"
   ]
  },
  {
   "cell_type": "code",
   "execution_count": 316,
   "id": "7139deeb",
   "metadata": {},
   "outputs": [
    {
     "data": {
      "text/plain": [
       "gender\n",
       "F    601396\n",
       "M    599249\n",
       "Name: ads_shown, dtype: int64"
      ]
     },
     "execution_count": 316,
     "metadata": {},
     "output_type": "execute_result"
    }
   ],
   "source": [
    "df_gender_grouped = df_merged.groupby('gender').sum()\n",
    "\n",
    "df_gender_grouped['ads_shown']"
   ]
  },
  {
   "cell_type": "markdown",
   "id": "dfddd121",
   "metadata": {},
   "source": [
    "##### Antwoord: Vrouwen krijgen meer ads te zien."
   ]
  },
  {
   "cell_type": "markdown",
   "id": "9b0f7410",
   "metadata": {},
   "source": [
    "#### Verdeling mannen en vrouwen in de dataset?"
   ]
  },
  {
   "cell_type": "code",
   "execution_count": 317,
   "id": "d2cab20e",
   "metadata": {},
   "outputs": [
    {
     "data": {
      "image/png": "[encoded data removed]",
      "text/plain": [
       "<Figure size 432x288 with 1 Axes>"
      ]
     },
     "metadata": {},
     "output_type": "display_data"
    }
   ],
   "source": [
    "gender = 'gender'\n",
    "values = df_merged[gender].value_counts()\n",
    "labels = values.index\n",
    "counts = values.values\n",
    "\n",
    "plt.pie(counts, labels=labels, autopct='%1.1f%%', startangle=90)\n",
    "plt.axis('equal')\n",
    "plt.title('Distribution on Gender')\n",
    "\n",
    "plt.show()"
   ]
  },
  {
   "cell_type": "markdown",
   "id": "56619bad",
   "metadata": {},
   "source": [
    "##### Antwoord: er zitten net iets meer mannen in de dataset"
   ]
  },
  {
   "cell_type": "markdown",
   "id": "b01c6dfd",
   "metadata": {},
   "source": [
    "#### Is er een significant verband tussen leeftijd en het aantal getoonde ads?"
   ]
  },
  {
   "cell_type": "code",
   "execution_count": 318,
   "id": "531aa790",
   "metadata": {},
   "outputs": [
    {
     "data": {
      "text/html": [
       "<div>\n",
       "<style scoped>\n",
       "    .dataframe tbody tr th:only-of-type {\n",
       "        vertical-align: middle;\n",
       "    }\n",
       "\n",
       "    .dataframe tbody tr th {\n",
       "        vertical-align: top;\n",
       "    }\n",
       "\n",
       "    .dataframe thead th {\n",
       "        text-align: right;\n",
       "    }\n",
       "</style>\n",
       "<table border=\"1\" class=\"dataframe\">\n",
       "  <thead>\n",
       "    <tr style=\"text-align: right;\">\n",
       "      <th>gender</th>\n",
       "      <th>F</th>\n",
       "      <th>M</th>\n",
       "    </tr>\n",
       "    <tr>\n",
       "      <th>user_age_exact</th>\n",
       "      <th></th>\n",
       "      <th></th>\n",
       "    </tr>\n",
       "  </thead>\n",
       "  <tbody>\n",
       "    <tr>\n",
       "      <th>18</th>\n",
       "      <td>56.902185</td>\n",
       "      <td>56.143223</td>\n",
       "    </tr>\n",
       "    <tr>\n",
       "      <th>19</th>\n",
       "      <td>48.673582</td>\n",
       "      <td>58.551570</td>\n",
       "    </tr>\n",
       "    <tr>\n",
       "      <th>20</th>\n",
       "      <td>46.532847</td>\n",
       "      <td>52.671875</td>\n",
       "    </tr>\n",
       "    <tr>\n",
       "      <th>21</th>\n",
       "      <td>60.106599</td>\n",
       "      <td>38.756233</td>\n",
       "    </tr>\n",
       "    <tr>\n",
       "      <th>22</th>\n",
       "      <td>60.910773</td>\n",
       "      <td>53.291525</td>\n",
       "    </tr>\n",
       "    <tr>\n",
       "      <th>...</th>\n",
       "      <td>...</td>\n",
       "      <td>...</td>\n",
       "    </tr>\n",
       "    <tr>\n",
       "      <th>95</th>\n",
       "      <td>22.000000</td>\n",
       "      <td>NaN</td>\n",
       "    </tr>\n",
       "    <tr>\n",
       "      <th>96</th>\n",
       "      <td>19.000000</td>\n",
       "      <td>36.835616</td>\n",
       "    </tr>\n",
       "    <tr>\n",
       "      <th>97</th>\n",
       "      <td>NaN</td>\n",
       "      <td>45.000000</td>\n",
       "    </tr>\n",
       "    <tr>\n",
       "      <th>98</th>\n",
       "      <td>34.663158</td>\n",
       "      <td>31.060606</td>\n",
       "    </tr>\n",
       "    <tr>\n",
       "      <th>99</th>\n",
       "      <td>25.361111</td>\n",
       "      <td>27.000000</td>\n",
       "    </tr>\n",
       "  </tbody>\n",
       "</table>\n",
       "<p>73 rows × 2 columns</p>\n",
       "</div>"
      ],
      "text/plain": [
       "gender                  F          M\n",
       "user_age_exact                      \n",
       "18              56.902185  56.143223\n",
       "19              48.673582  58.551570\n",
       "20              46.532847  52.671875\n",
       "21              60.106599  38.756233\n",
       "22              60.910773  53.291525\n",
       "...                   ...        ...\n",
       "95              22.000000        NaN\n",
       "96              19.000000  36.835616\n",
       "97                    NaN  45.000000\n",
       "98              34.663158  31.060606\n",
       "99              25.361111  27.000000\n",
       "\n",
       "[73 rows x 2 columns]"
      ]
     },
     "execution_count": 318,
     "metadata": {},
     "output_type": "execute_result"
    }
   ],
   "source": [
    "corr_age_ads_shown = pd.pivot_table(df_merged, values = 'ads_shown', index = ['user_age_exact'], columns = ['gender'])\n",
    "\n",
    "corr_age_ads_shown"
   ]
  },
  {
   "cell_type": "code",
   "execution_count": 319,
   "id": "e32eae7e",
   "metadata": {},
   "outputs": [
    {
     "data": {
      "image/png": "[encoded data removed]",
      "text/plain": [
       "<Figure size 432x288 with 1 Axes>"
      ]
     },
     "metadata": {
      "needs_background": "light"
     },
     "output_type": "display_data"
    }
   ],
   "source": [
    "df_age_ads_total = df_merged[['gender', 'user_age_exact', 'ads_shown']]\n",
    "df_age_ads_total = df_age_ads_total.groupby(['user_age_exact']).sum().unstack()\n",
    "ax = df_age_ads_total.plot.line()"
   ]
  },
  {
   "cell_type": "code",
   "execution_count": null,
   "id": "a95fb2c4",
   "metadata": {},
   "outputs": [],
   "source": []
  },
  {
   "cell_type": "code",
   "execution_count": null,
   "id": "4e286a63",
   "metadata": {},
   "outputs": [],
   "source": []
  },
  {
   "cell_type": "code",
   "execution_count": 320,
   "id": "a2b4a567",
   "metadata": {},
   "outputs": [],
   "source": [
    "df_male = df_merged[df_merged['gender'] == 'M']\n",
    "df_female = df_merged[df_merged['gender'] == 'F']"
   ]
  },
  {
   "cell_type": "code",
   "execution_count": 321,
   "id": "5dce30c6",
   "metadata": {},
   "outputs": [
    {
     "data": {
      "image/png": "[encoded data removed]",
      "text/plain": [
       "<Figure size 432x288 with 1 Axes>"
      ]
     },
     "metadata": {
      "needs_background": "light"
     },
     "output_type": "display_data"
    }
   ],
   "source": [
    "plt.scatter(df_male['user_age_exact'], df_male['ads_shown'], label='Male')\n",
    "plt.scatter(df_female['user_age_exact'], df_female['ads_shown'], label='Female')\n",
    "\n",
    "plt.xlabel('user_age_exact')\n",
    "plt.ylabel('ads_shown')\n",
    "plt.title('Ads Shown by Age and Gender')\n",
    "plt.legend()\n",
    "plt.show()"
   ]
  },
  {
   "cell_type": "markdown",
   "id": "ea95d544",
   "metadata": {},
   "source": [
    "##### Antwoord: volgende correlatie kan gevonden worden, i.e. hoe jonger de user, hoe groter de kans dat deze een ad te zien krijgt."
   ]
  },
  {
   "cell_type": "markdown",
   "id": "b9939535",
   "metadata": {},
   "source": [
    "#### Hoe vaak werd er op de verschillende websites doorgeklikt per land?"
   ]
  },
  {
   "cell_type": "code",
   "execution_count": 322,
   "id": "f7b08281",
   "metadata": {},
   "outputs": [
    {
     "data": {
      "text/html": [
       "<div>\n",
       "<style scoped>\n",
       "    .dataframe tbody tr th:only-of-type {\n",
       "        vertical-align: middle;\n",
       "    }\n",
       "\n",
       "    .dataframe tbody tr th {\n",
       "        vertical-align: top;\n",
       "    }\n",
       "\n",
       "    .dataframe thead th {\n",
       "        text-align: right;\n",
       "    }\n",
       "</style>\n",
       "<table border=\"1\" class=\"dataframe\">\n",
       "  <thead>\n",
       "    <tr style=\"text-align: right;\">\n",
       "      <th>category_website</th>\n",
       "      <th>movies</th>\n",
       "      <th>social</th>\n",
       "      <th>sports</th>\n",
       "    </tr>\n",
       "    <tr>\n",
       "      <th>location</th>\n",
       "      <th></th>\n",
       "      <th></th>\n",
       "      <th></th>\n",
       "    </tr>\n",
       "  </thead>\n",
       "  <tbody>\n",
       "    <tr>\n",
       "      <th>Belgium</th>\n",
       "      <td>0.116822</td>\n",
       "      <td>0.097788</td>\n",
       "      <td>0.154955</td>\n",
       "    </tr>\n",
       "    <tr>\n",
       "      <th>France</th>\n",
       "      <td>0.140100</td>\n",
       "      <td>0.114698</td>\n",
       "      <td>0.139048</td>\n",
       "    </tr>\n",
       "    <tr>\n",
       "      <th>Germany</th>\n",
       "      <td>0.127467</td>\n",
       "      <td>0.123711</td>\n",
       "      <td>0.130000</td>\n",
       "    </tr>\n",
       "    <tr>\n",
       "      <th>Luxembourg</th>\n",
       "      <td>0.136467</td>\n",
       "      <td>0.110119</td>\n",
       "      <td>0.123529</td>\n",
       "    </tr>\n",
       "    <tr>\n",
       "      <th>Netherlands</th>\n",
       "      <td>0.132844</td>\n",
       "      <td>0.119762</td>\n",
       "      <td>0.132246</td>\n",
       "    </tr>\n",
       "  </tbody>\n",
       "</table>\n",
       "</div>"
      ],
      "text/plain": [
       "category_website    movies    social    sports\n",
       "location                                      \n",
       "Belgium           0.116822  0.097788  0.154955\n",
       "France            0.140100  0.114698  0.139048\n",
       "Germany           0.127467  0.123711  0.130000\n",
       "Luxembourg        0.136467  0.110119  0.123529\n",
       "Netherlands       0.132844  0.119762  0.132246"
      ]
     },
     "execution_count": 322,
     "metadata": {},
     "output_type": "execute_result"
    }
   ],
   "source": [
    "df_website_category = pd.pivot_table(df_merged, values = 'did_click', index = ['location'], columns = ['category_website'])\n",
    "\n",
    "df_website_category"
   ]
  },
  {
   "cell_type": "code",
   "execution_count": 323,
   "id": "79695e03",
   "metadata": {},
   "outputs": [
    {
     "data": {
      "text/plain": [
       "<matplotlib.legend.Legend at 0x1c2b9781670>"
      ]
     },
     "execution_count": 323,
     "metadata": {},
     "output_type": "execute_result"
    },
    {
     "data": {
      "image/png": "[encoded data removed]",
      "text/plain": [
       "<Figure size 720x432 with 1 Axes>"
      ]
     },
     "metadata": {
      "needs_background": "light"
     },
     "output_type": "display_data"
    }
   ],
   "source": [
    "ax = df_website_category.plot.bar(figsize=(10, 6))\n",
    "ax.legend(bbox_to_anchor=(0.7, 0., 0.45, 1.005))"
   ]
  },
  {
   "cell_type": "markdown",
   "id": "91e8d8ec",
   "metadata": {},
   "source": [
    "## Export Data"
   ]
  },
  {
   "cell_type": "code",
   "execution_count": 324,
   "id": "d4105f30",
   "metadata": {},
   "outputs": [],
   "source": [
    "writer = pd.ExcelWriter('output_file_saco2_20230418.xlsx', engine='xlsxwriter')\n",
    "\n",
    "df_merged.to_excel(writer, sheet_name='merged_data', index=False)\n",
    "\n",
    "writer.save()"
   ]
  },
  {
   "cell_type": "code",
   "execution_count": null,
   "id": "fec30d41",
   "metadata": {},
   "outputs": [],
   "source": []
  }
 ],
 "metadata": {
  "kernelspec": {
   "display_name": "Python 3 (ipykernel)",
   "language": "python",
   "name": "python3"
  },
  "language_info": {
   "codemirror_mode": {
    "name": "ipython",
    "version": 3
   },
   "file_extension": ".py",
   "mimetype": "text/x-python",
   "name": "python",
   "nbconvert_exporter": "python",
   "pygments_lexer": "ipython3",
   "version": "3.9.12"
  }
 },
 "nbformat": 4,
 "nbformat_minor": 5
}
